{
 "cells": [
  {
   "cell_type": "code",
   "execution_count": 1,
   "id": "fb2d7de8",
   "metadata": {
    "ExecuteTime": {
     "end_time": "2023-11-29T10:37:49.716188Z",
     "start_time": "2023-11-29T10:37:49.630031Z"
    }
   },
   "outputs": [],
   "source": [
    "import numpy as np\n",
    "import nibabel as nib"
   ]
  },
  {
   "cell_type": "code",
   "execution_count": 7,
   "id": "345aa8fd",
   "metadata": {
    "ExecuteTime": {
     "end_time": "2023-12-06T08:30:20.938321Z",
     "start_time": "2023-12-06T08:30:20.933346Z"
    }
   },
   "outputs": [],
   "source": [
    "# Change this to your data directory.\n",
    "DATA_DIRECTORY = './data'"
   ]
  },
  {
   "cell_type": "code",
   "execution_count": 8,
   "id": "14ac27b7",
   "metadata": {
    "ExecuteTime": {
     "end_time": "2023-12-06T08:30:21.551483Z",
     "start_time": "2023-12-06T08:30:21.525638Z"
    }
   },
   "outputs": [
    {
     "name": "stdout",
     "output_type": "stream",
     "text": [
      "(145, 174, 145, 6)\n",
      "(145, 174, 145)\n",
      "(145, 174, 145)\n"
     ]
    }
   ],
   "source": [
    "# Load the tensor. The last dimension contains: dxx, dyy, dzz, dxy, dxz, dyz\n",
    "tensor_nii = nib.load(DATA_DIRECTORY + '/tensors.nii.gz')\n",
    "print(tensor_nii.shape)\n",
    "\n",
    "# Load the WM labels.\n",
    "wm_nii = nib.load(DATA_DIRECTORY + '/wm.nii.gz')\n",
    "print(wm_nii.shape)\n",
    "\n",
    "# Load the brain mask.\n",
    "brain_nii = nib.load(DATA_DIRECTORY + '/mask.nii.gz')\n",
    "print(brain_nii.shape)"
   ]
  },
  {
   "cell_type": "code",
   "execution_count": 6,
   "id": "9e12d465",
   "metadata": {
    "ExecuteTime": {
     "end_time": "2023-11-29T10:47:53.296392Z",
     "start_time": "2023-11-29T10:47:52.900909Z"
    }
   },
   "outputs": [
    {
     "name": "stdout",
     "output_type": "stream",
     "text": [
      "(371573, 6)\n",
      "(371573,)\n"
     ]
    }
   ],
   "source": [
    "# Create a mask by keeping only voxels in the brain. Also remove NaNs.\n",
    "brain_mask = brain_nii.get_fdata() == 1.0\n",
    "isnan = np.isnan(np.sum(tensor_nii.get_fdata(), axis=-1))\n",
    "mask = np.logical_and(brain_mask, ~isnan)\n",
    "\n",
    "# Reshape the data to (number of samples, features)\n",
    "tensor_entries = tensor_nii.get_fdata()[mask, :]\n",
    "print(tensor_entries.shape)\n",
    "\n",
    "# Reshape the labels so they match.\n",
    "labels = wm_nii.get_fdata()[mask]\n",
    "print(labels.shape)"
   ]
  },
  {
   "cell_type": "markdown",
   "id": "74821708",
   "metadata": {},
   "source": [
    "# Using tensor entries"
   ]
  },
  {
   "cell_type": "code",
   "execution_count": null,
   "id": "9cc1ed53",
   "metadata": {},
   "outputs": [],
   "source": [
    "# Build you model using your favorite framework."
   ]
  },
  {
   "cell_type": "code",
   "execution_count": null,
   "id": "59dbeb0e",
   "metadata": {},
   "outputs": [],
   "source": [
    "# Train it."
   ]
  },
  {
   "cell_type": "code",
   "execution_count": null,
   "id": "c46c7b55",
   "metadata": {},
   "outputs": [],
   "source": [
    "# Evaluate it."
   ]
  },
  {
   "cell_type": "markdown",
   "id": "63f1ca31",
   "metadata": {},
   "source": [
    "# Using singular values"
   ]
  },
  {
   "cell_type": "code",
   "execution_count": null,
   "id": "2fed0711",
   "metadata": {},
   "outputs": [],
   "source": [
    "# Reshape the tensors to the format expected by np.linalg.svd\n",
    "tensors = np.zeros((tensor_entries.shape[0], 3, 3))\n",
    "tensors[:, 0, 0] = tensor_entries[:, 0]\n",
    "tensors[:, 1, 1] = tensor_entries[:, 1]\n",
    "tensors[:, 2, 2] = tensor_entries[:, 2]\n",
    "tensors[:, 0, 1] = tensor_entries[:, 3]\n",
    "tensors[:, 1, 0] = tensor_entries[:, 3]\n",
    "tensors[:, 0, 2] = tensor_entries[:, 4]\n",
    "tensors[:, 2, 0] = tensor_entries[:, 4]\n",
    "tensors[:, 1, 2] = tensor_entries[:, 5]\n",
    "tensors[:, 2, 1] = tensor_entries[:, 5]\n",
    "\n",
    "# Compute the singular values.\n",
    "singular_values = np.linalg.svd(tensors, compute_uv=False, hermitian=True)"
   ]
  },
  {
   "cell_type": "code",
   "execution_count": null,
   "id": "c7469b73",
   "metadata": {},
   "outputs": [],
   "source": [
    "# Build you model using your favorite framework."
   ]
  },
  {
   "cell_type": "code",
   "execution_count": null,
   "id": "86e62089",
   "metadata": {},
   "outputs": [],
   "source": [
    "# Train it."
   ]
  },
  {
   "cell_type": "code",
   "execution_count": null,
   "id": "7f223e0e",
   "metadata": {},
   "outputs": [],
   "source": [
    "# Evaluate it."
   ]
  },
  {
   "cell_type": "markdown",
   "id": "f2fb7d56",
   "metadata": {},
   "source": [
    "# (bonus) Using data augmentation"
   ]
  },
  {
   "cell_type": "code",
   "execution_count": null,
   "id": "f12c2249",
   "metadata": {},
   "outputs": [],
   "source": [
    "# Augment the dataset by rotating the tensors."
   ]
  },
  {
   "cell_type": "code",
   "execution_count": null,
   "id": "cef394ac",
   "metadata": {},
   "outputs": [],
   "source": [
    "# Build you model using your favorite framework."
   ]
  },
  {
   "cell_type": "code",
   "execution_count": null,
   "id": "c439d81c",
   "metadata": {},
   "outputs": [],
   "source": [
    "# Train it."
   ]
  },
  {
   "cell_type": "code",
   "execution_count": null,
   "id": "7ae3d0c9",
   "metadata": {},
   "outputs": [],
   "source": [
    "# Evaluate it."
   ]
  }
 ],
 "metadata": {
  "kernelspec": {
   "display_name": "Python 3 (ipykernel)",
   "language": "python",
   "name": "python3"
  },
  "language_info": {
   "codemirror_mode": {
    "name": "ipython",
    "version": 3
   },
   "file_extension": ".py",
   "mimetype": "text/x-python",
   "name": "python",
   "nbconvert_exporter": "python",
   "pygments_lexer": "ipython3",
   "version": "3.11.5"
  },
  "toc": {
   "base_numbering": 1,
   "nav_menu": {},
   "number_sections": true,
   "sideBar": true,
   "skip_h1_title": false,
   "title_cell": "Table of Contents",
   "title_sidebar": "Contents",
   "toc_cell": false,
   "toc_position": {},
   "toc_section_display": true,
   "toc_window_display": false
  },
  "varInspector": {
   "cols": {
    "lenName": 16,
    "lenType": 16,
    "lenVar": 40
   },
   "kernels_config": {
    "python": {
     "delete_cmd_postfix": "",
     "delete_cmd_prefix": "del ",
     "library": "var_list.py",
     "varRefreshCmd": "print(var_dic_list())"
    },
    "r": {
     "delete_cmd_postfix": ") ",
     "delete_cmd_prefix": "rm(",
     "library": "var_list.r",
     "varRefreshCmd": "cat(var_dic_list()) "
    }
   },
   "types_to_exclude": [
    "module",
    "function",
    "builtin_function_or_method",
    "instance",
    "_Feature"
   ],
   "window_display": false
  }
 },
 "nbformat": 4,
 "nbformat_minor": 5
}
